{
 "cells": [
  {
   "cell_type": "code",
   "execution_count": 1,
   "metadata": {},
   "outputs": [],
   "source": [
    "import sqlite3"
   ]
  },
  {
   "cell_type": "code",
   "execution_count": 2,
   "metadata": {},
   "outputs": [],
   "source": [
    "dir_base = \"/mnt/c/Users/nnurry/AppData/Local/Google/Chrome/User Data/Default/Network\"\n",
    "\n",
    "conn = sqlite3.connect(f\"{dir_base}/Cookies\")"
   ]
  },
  {
   "cell_type": "code",
   "execution_count": 3,
   "metadata": {},
   "outputs": [],
   "source": [
    "cursor = conn.cursor()"
   ]
  },
  {
   "cell_type": "code",
   "execution_count": 14,
   "metadata": {},
   "outputs": [
    {
     "data": {
      "text/plain": [
       "[('table',\n",
       "  'meta',\n",
       "  'meta',\n",
       "  2,\n",
       "  'CREATE TABLE meta(key LONGVARCHAR NOT NULL UNIQUE PRIMARY KEY, value LONGVARCHAR)'),\n",
       " ('table',\n",
       "  'cookies',\n",
       "  'cookies',\n",
       "  4,\n",
       "  'CREATE TABLE cookies(creation_utc INTEGER NOT NULL,host_key TEXT NOT NULL,top_frame_site_key TEXT NOT NULL,name TEXT NOT NULL,value TEXT NOT NULL,encrypted_value BLOB NOT NULL,path TEXT NOT NULL,expires_utc INTEGER NOT NULL,is_secure INTEGER NOT NULL,is_httponly INTEGER NOT NULL,last_access_utc INTEGER NOT NULL,has_expires INTEGER NOT NULL,is_persistent INTEGER NOT NULL,priority INTEGER NOT NULL,samesite INTEGER NOT NULL,source_scheme INTEGER NOT NULL,source_port INTEGER NOT NULL,last_update_utc INTEGER NOT NULL,source_type INTEGER NOT NULL,has_cross_site_ancestor INTEGER NOT NULL)')]"
      ]
     },
     "execution_count": 14,
     "metadata": {},
     "output_type": "execute_result"
    }
   ],
   "source": [
    "cursor.execute(\"SELECT * FROM sqlite_master WHERE type='table';\")\n",
    "tables = cursor.fetchall()\n",
    "tables"
   ]
  },
  {
   "cell_type": "code",
   "execution_count": 18,
   "metadata": {},
   "outputs": [],
   "source": [
    "schema = \"\"\"\n",
    "CREATE TABLE cookies(\n",
    "    creation_utc INTEGER NOT NULL,\n",
    "    host_key TEXT NOT NULL,\n",
    "    top_frame_site_key TEXT NOT NULL,\n",
    "    name TEXT NOT NULL,\n",
    "    value TEXT NOT NULL,\n",
    "    encrypted_value BLOB NOT NULL,\n",
    "    path TEXT NOT NULL,\n",
    "    expires_utc INTEGER NOT NULL,\n",
    "    is_secure INTEGER NOT NULL,\n",
    "    is_httponly INTEGER NOT NULL,\n",
    "    last_access_utc INTEGER NOT NULL,\n",
    "    has_expires INTEGER NOT NULL,\n",
    "    is_persistent INTEGER NOT NULL,\n",
    "    priority INTEGER NOT NULL,\n",
    "    samesite INTEGER NOT NULL,\n",
    "    source_scheme INTEGER NOT NULL,\n",
    "    source_port INTEGER NOT NULL,\n",
    "    last_update_utc INTEGER NOT NULL,\n",
    "    source_type INTEGER NOT NULL,\n",
    "    has_cross_site_ancestor INTEGER NOT NULL\n",
    ")\n",
    "\"\"\""
   ]
  },
  {
   "cell_type": "code",
   "execution_count": null,
   "metadata": {},
   "outputs": [],
   "source": [
    "cursor.execute(\"SELECT * FROM cookies\")\n",
    "cookies = cursor.fetchall()"
   ]
  },
  {
   "cell_type": "code",
   "execution_count": 17,
   "metadata": {},
   "outputs": [
    {
     "data": {
      "text/plain": [
       "(13368170214372313,\n",
       " 'accounts.google.com',\n",
       " '',\n",
       " 'ACCOUNT_CHOOSER',\n",
       " '',\n",
       " b\"v10\\xaf\\x86A\\x83\\x1co\\xb2w\\x82\\xdc\\x94?)5\\x08h\\xc6W\\x1eE\\xb3l\\x81\\x85\\x87\\xe2\\x08\\xe6\\x99\\xa2\\x8d\\xad\\xaf\\xda\\x88\\xa9\\xe4\\xd8\\x85I2\\xa4\\x98V\\x1a\\xfa\\xd0c\\xbc8\\xe7W?\\xc5*Fc:\\xc6\\xd2rQ\\xc0\\xe7\\xd0\\x89j\\xf8y\\xc7\\xca\\x90]y#\\x1f\\xf6\\xac\\x0b6\\x98\\x89\\xa5\\x1dC\\xd8\\xc9#d\\x92\\xb5\\xc9\\xd3Z\\x0f,q\\x17[\\xd7\\xe6\\xc4tN\\xc1\\xc0\\x8f\\x99\\xe2\\xd7\\xc5~\\x1f\\xb0\\xcb\\xa9\\xf6\\x03\\x85\\x80\\x1c'.\\xfd@\\xeafCO\\xf8z\\x02\\x1d\\r\\xb4\\x98\\xa4\\xf4\\xc9D\\x15V\\xc0\\x06<\\xd6\\x93\\r\\xbd\\x81Y\\x9bd\\xe4\\x83J\\xb0;!M\\x86*\\xbeh\\xf19\\x8ci ++\\xe2:\\xe6f3I\\xf7\\xf9}9ZO\\xed7\\xae \\xcb\\xf6\\x9b\",\n",
       " '/',\n",
       " 13402730214372313,\n",
       " 1,\n",
       " 1,\n",
       " 13373142623875656,\n",
       " 1,\n",
       " 1,\n",
       " 2,\n",
       " -1,\n",
       " 2,\n",
       " 443,\n",
       " 13368170214372316,\n",
       " 1,\n",
       " 1)"
      ]
     },
     "execution_count": 17,
     "metadata": {},
     "output_type": "execute_result"
    }
   ],
   "source": [
    "cookies[0]"
   ]
  },
  {
   "cell_type": "code",
   "execution_count": null,
   "metadata": {},
   "outputs": [],
   "source": []
  }
 ],
 "metadata": {
  "kernelspec": {
   "display_name": ".venv",
   "language": "python",
   "name": "python3"
  },
  "language_info": {
   "codemirror_mode": {
    "name": "ipython",
    "version": 3
   },
   "file_extension": ".py",
   "mimetype": "text/x-python",
   "name": "python",
   "nbconvert_exporter": "python",
   "pygments_lexer": "ipython3",
   "version": "3.12.3"
  }
 },
 "nbformat": 4,
 "nbformat_minor": 2
}
